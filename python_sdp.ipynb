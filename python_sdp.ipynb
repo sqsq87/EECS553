{
 "cells": [
  {
   "cell_type": "code",
   "execution_count": 4,
   "metadata": {},
   "outputs": [],
   "source": [
    "import numpy as np\n",
    "from cvxopt import matrix, solvers\n",
    "import time\n",
    "def sdp(X,y,z,gamma):\n",
    "    time1 = time.time()\n",
    "    (m,n) = X.shape\n",
    "    Y = np.concatenate([X, np.ones((m,1))], axis = 1)\n",
    "    A11 = np.dot(Y.T, Y) #4*4\n",
    "    A11 = (A11.T+A11)/2 #4*4\n",
    "    A13 = np.dot(-Y.T, y).reshape(-1,1) #4*1\n",
    "    A12 = np.dot(Y.T, z-y).reshape(-1,1) #4*1\n",
    "    A22 = np.array([np.linalg.norm(z-y)**2]).reshape(1,1) #1*1\n",
    "    A23 = -1*np.array([np.dot((z-y).T, y)]).reshape(1,1) #1*1\n",
    "    A33 = np.dot(y.T, y) #1*1\n",
    "    A1 = np.concatenate([A11, A12, A13], axis = 1)\n",
    "    A2 = np.concatenate([A12.T, A22, A23], axis = 1)\n",
    "    A3 = np.concatenate([A13.T, A23, A33], axis = 1)\n",
    "    A = np.concatenate([A1, A2, A3], axis = 0)\n",
    "   \n",
    "    B = np.zeros((n+3, n+3))\n",
    "    for i in range(n+1, n+3):\n",
    "        for j in range(n+1, n+3):\n",
    "            B[i][j]=1\n",
    "    C = np.zeros((n+3, n+3))\n",
    "    temp = np.identity(n+1)\n",
    "    for i in range(n+1):\n",
    "        for j in range(n+1):\n",
    "            C[i][j]=1/gamma*temp[i][j]\n",
    "    for i in range(n+1, n+3):\n",
    "        for j in range(n+1, n+3):\n",
    "            C[i][j]=-0.5\n",
    "    B = B.reshape(1,-1)\n",
    "    C = -1 * C.reshape(1,-1)\n",
    "   \n",
    "    h = [matrix(A.tolist())]\n",
    "    c = matrix([1.,0.])\n",
    "    sol = solvers.sdp(c, Gs=[matrix([B.tolist()[0], C.tolist()[0]])], hs=h)\n",
    "    time2 = time.time()\n",
    "    print(sol['x'])\n",
    "    print(time2-time1)\n",
    "    \n",
    "    \n",
    "    \n",
    "    \n",
    "    \n",
    "\n",
    "\n"
   ]
  },
  {
   "cell_type": "code",
   "execution_count": 5,
   "metadata": {},
   "outputs": [],
   "source": [
    "import random\n",
    "import numpy as np\n",
    "def getTime_realData(X, y, z, gamma,size_range):\n",
    "    fold = 10\n",
    "    num_size = len(size_range)\n",
    "    random.seed(2021)\n",
    "    (m,n) = X.shape\n",
    "    ssdp_yes = 1\n",
    "    time_ssdp = np.zeros(num_size)\n",
    "    time_ssdp_std = np.zeros(num_size)\n",
    "    optval_ssdp = np.zeros(num_size)\n",
    "    w_ssdp = np.zeros((n+1,fold))\n",
    "    for i in range(num_size):\n",
    "        print('Starting a dataset size of ' + str(i));\n",
    "        timessdp = np.zeros(fold)\n",
    "        optvalssdp = np.zeros(fold)\n",
    "        m_curr = size_range[i]\n",
    "        for idx in range(fold):\n",
    "            ridx = random.sample(range(m), m_curr)\n",
    "            if ssdp_yes:\n",
    "                print('Doing ssdp')\n",
    "                timessdp[idx] = sdp(X[ridx] , y[ridx], z[ridx], gamma);  \n",
    "        time_ssdp[i] = np.mean(timessdp)\n",
    "        time_ssdp_std[i]=np.std(timessdp)\n",
    "    return (time_ssdp, time_ssdp_std)\n",
    "\n",
    "            \n",
    "       \n",
    "           \n",
    "    \n",
    "    "
   ]
  },
  {
   "cell_type": "code",
   "execution_count": 6,
   "metadata": {},
   "outputs": [
    {
     "ename": "NameError",
     "evalue": "name 'data_read' is not defined",
     "output_type": "error",
     "traceback": [
      "\u001B[1;31m---------------------------------------------------------------------------\u001B[0m",
      "\u001B[1;31mNameError\u001B[0m                                 Traceback (most recent call last)",
      "Input \u001B[1;32mIn [6]\u001B[0m, in \u001B[0;36m<cell line: 9>\u001B[1;34m()\u001B[0m\n\u001B[0;32m     13\u001B[0m \u001B[38;5;28;01mfor\u001B[39;00m idx \u001B[38;5;129;01min\u001B[39;00m \u001B[38;5;28mrange\u001B[39m(len_name):\n\u001B[0;32m     14\u001B[0m     dataname \u001B[38;5;241m=\u001B[39m dataname_list[idx]\n\u001B[1;32m---> 15\u001B[0m     [X, y, z, const, gamma_list, gamma_time, datasize_list] \u001B[38;5;241m=\u001B[39m \u001B[43mdata_read\u001B[49m(dataname)\n\u001B[0;32m     17\u001B[0m     \u001B[38;5;28;01mif\u001B[39;00m normalize_yes:\n\u001B[0;32m     18\u001B[0m         X \u001B[38;5;241m=\u001B[39m normalize(X, axis\u001B[38;5;241m=\u001B[39m\u001B[38;5;241m1\u001B[39m, norm\u001B[38;5;241m=\u001B[39m\u001B[38;5;124m'\u001B[39m\u001B[38;5;124ml1\u001B[39m\u001B[38;5;124m'\u001B[39m)\n",
      "\u001B[1;31mNameError\u001B[0m: name 'data_read' is not defined"
     ]
    }
   ],
   "source": [
    "from matplotlib.pyplot import table\n",
    "import pandas as pd\n",
    "from sklearn.preprocessing import normalize\n",
    "dataname_list = [\"wine_modest\", \"wine_severe\", \"insurance_modest\",\"insurance_severe\"]\n",
    "len_name = len(dataname_list)\n",
    "gamma_list = [1e-1]\n",
    "normalize_yes = 1\n",
    "\n",
    "for gamma_idx in range(len(gamma_list)):\n",
    "    gamma = gamma_list[gamma_idx]\n",
    "    ssdp_mr = np.zeros((len_name,1))\n",
    "    ssdp_std = np.zeros((len_name,1))\n",
    "    for idx in range(len_name):\n",
    "        dataname = dataname_list[idx]\n",
    "        [X, y, z, const, gamma_list, gamma_time, datasize_list] = data_read(dataname)\n",
    "       \n",
    "        if normalize_yes:\n",
    "            X = normalize(X, axis=1, norm='l1')\n",
    "        \n",
    "        Infossdp = getTime_realData(X, y, z, gamma, datasize_list);\n",
    "        ssdp_mr  = Infossdp[0]\n",
    "        ssdp_std  = Infossdp[1]\n",
    "\n",
    "        print(ssdp_mr, ssdp_std)\n",
    "        df = pd.DataFrame({'datasize': datasize_list, 'ssdp_mr': ssdp_mr, 'ssdp_std': ssdp_std})\n",
    "         \n",
    "        table_name_cmp ='result/'+str(dataname)+'_time.csv'\n",
    "        df.to_csv(table_name_cmp)\n",
    "\n",
    "\n",
    "   "
   ]
  },
  {
   "cell_type": "code",
   "execution_count": null,
   "metadata": {},
   "outputs": [],
   "source": []
  }
 ],
 "metadata": {
  "kernelspec": {
   "display_name": "Python 3 (ipykernel)",
   "language": "python",
   "name": "python3"
  },
  "language_info": {
   "codemirror_mode": {
    "name": "ipython",
    "version": 3
   },
   "file_extension": ".py",
   "mimetype": "text/x-python",
   "name": "python",
   "nbconvert_exporter": "python",
   "pygments_lexer": "ipython3",
   "version": "3.9.12"
  },
  "vscode": {
   "interpreter": {
    "hash": "7686098923b00593035e806099902c719699d4e7cfdcbf8a76984fac7a8d6f8e"
   }
  }
 },
 "nbformat": 4,
 "nbformat_minor": 2
}
