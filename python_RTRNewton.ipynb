{
 "cells": [
  {
   "cell_type": "code",
   "execution_count": 78,
   "metadata": {},
   "outputs": [],
   "source": [
    "import autograd.numpy as anp\n",
    "import autograd.numpy as anp\n",
    "import pymanopt\n",
    "import pymanopt.manifolds\n",
    "import pymanopt.optimizers\n",
    "\n",
    "import autograd.numpy as np\n",
    "import time\n",
    "\n",
    "def RTRNewton(X,y,z,gamma):\n",
    "    time1 = time.time()\n",
    "    (m,n) = X.shape\n",
    "    Y = np.concatenate([0.5 * (gamma**0.5) * X, 0.5 * (gamma**0.5) * np.ones((m,1))], axis = 1)\n",
    "    Lhat = np.concatenate([Y, 0.5 * z], axis = 1)\n",
    "    #Lend = 0.5 * z - y\n",
    "    #A = np.dot(Lhat.T, Lhat)\n",
    "    #b = np.dot(Lhat.T, Lend)\n",
    "    #c = np.dot(Lend.T, Lend)\n",
    "    \n",
    "    dim = n + 2\n",
    "    manifold = pymanopt.manifolds.Sphere(dim)\n",
    "\n",
    "    @pymanopt.function.autograd(manifold)\n",
    "    def cost(r):\n",
    "        return np.linalg.norm((Lhat @ r).reshape(y.shape[0],1) - y + z/2) ** 2\n",
    "\n",
    "    problem = pymanopt.Problem(manifold, cost)\n",
    "\n",
    "    optimizer = pymanopt.optimizers.trust_regions.TrustRegions()\n",
    "    result = optimizer.run(problem)\n",
    "\n",
    "    #print(\"Pymanopt solution:\", result.point)\n",
    "    time2 = time.time()\n",
    "    return time2-time1"
   ]
  }
 ],
 "metadata": {
  "kernelspec": {
   "display_name": "Python 3 (ipykernel)",
   "language": "python",
   "name": "python3"
  },
  "language_info": {
   "codemirror_mode": {
    "name": "ipython",
    "version": 3
   },
   "file_extension": ".py",
   "mimetype": "text/x-python",
   "name": "python",
   "nbconvert_exporter": "python",
   "pygments_lexer": "ipython3",
   "version": "3.10.6"
  },
  "vscode": {
   "interpreter": {
    "hash": "7686098923b00593035e806099902c719699d4e7cfdcbf8a76984fac7a8d6f8e"
   }
  }
 },
 "nbformat": 4,
 "nbformat_minor": 2
}
